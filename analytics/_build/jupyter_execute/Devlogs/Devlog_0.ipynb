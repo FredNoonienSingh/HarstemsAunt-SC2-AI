{
 "cells": [
  {
   "cell_type": "markdown",
   "metadata": {},
   "source": [
    "# Beginning of the Project "
   ]
  },
  {
   "cell_type": "markdown",
   "metadata": {},
   "source": [
    "![title](../_static/sc2.jpg)"
   ]
  },
  {
   "cell_type": "markdown",
   "metadata": {},
   "source": [
    "### How did i get here\n",
    "\n",
    "As soon as i became aware of the the [SC2-AI-Arena](https://aiarena.net/) i was fascinated, i would like to claim that i first heard of it a few days ago and immediately started working on the bot that currently fights on the ladder. \n",
    "But in reality, i first heard of it around two years ago, and i fact i started to work on a bot, which i named *B-4*, those who get the reference in my GitHub Handle will surely understand why, and it is only fitting that like it's namesake B-4 did not get far. \n",
    "Partly because starting a new project is easy following through on the other hand is not, especially because i started working without a plan, just a idea and so B-4 grew into an overly complicated, badly performing mess without a single line of documentation or a single useful comment. And so after tinkering on it for a while, i aboded the project and did something else.\n",
    "\n",
    "\n",
    "A few months later i went through my ``PersonalProjects`` directory and rediscovered him, but i quickly realized that fixing everything wrong with it, would be a nightmare and take a lot longer than just starting from scratch, so i did. \n",
    "``PersonalProjects`` got a new subdirectory ``SC2-Bots``, B-4 got moved to it and right beside him i stared again, and keeping with the theme i named this version *Lore*. \n",
    "\n",
    "\n",
    "Lore was supposed to be different, before i really started to write a single line for him i went over B-4, looking for any pieces of code that might be useful, adding a few comments here and there to make navigating the mess a little bit easier. \n",
    "So after copy-pasting anything useful from B-4 to Lore and improving the overall structure a bit, i went right back in, again without any plan not writing a single line about what i was doing nor talking to anyone about that had done what i was trying to do, \n",
    "i made the first of those mistakes out of arrogance the second one out of pride.\n",
    "Neither of those qualities is particularly useful when trying to learn anything new and as one might assume this let me to repeat the mistakes i made with before. \n",
    "Lore got a a little bit further, but not by much. \n",
    "While looking through my files i found a screenshot, that shows him ideling in the enemy base, just a few pixels away from the final building while the Stalemate counter slowly ticks down.\n",
    "\n",
    "![title](../_static/lore.png)\n",
    "\n",
    "Just a short while after i took this picture, i stopped working on the project (again).\n",
    "\n",
    "\n",
    "And again, a few months passed and i got back to the idea of building an SC2-Bot of my own, so i went back to the ``SC2-Bots``directory, and created a third folder in it, breaking my previous naming schema and just calling it, *Number3* and before wrote a single line of new code, i went onto the AI-Arena Webpage and created an account, this time i was sure my bot would get to a stage that i could deploy it - i was determined to make it happen, but this was a year ago and the bot currently competing on the ladder is not called *Number3*, because my determination ran out after repeated the same mistakes that i made with *B-4* and *Lore*, so i stopped working on it.\n",
    "A year passed, probably the year in which i learned the most, not only as a programmer but as a person, and i went through my Folders again. And i started again, but in a different way, i set my self a clear goal, didn't took the project as serious as before, gave my bot a rather silly name and started to code. \n",
    "My goal was not like in the previous attempts to build something that crushes other bots, i wanted something that works, the project was supposed to serve my curiosity not my arrogance.\n",
    "And out of this shift in perspective and a little bit of planing my current bot - __HARSTEM'S AUNT__ was born.\n",
    "\n",
    "\n",
    "He might not be the best bot on the ladder, he is far from it, but i reached a milestone the other bots did not he is online and fighting.\n",
    "\n",
    "![title](../_static/elo.png)\n",
    "\n",
    "At the Time of writing, he lost around 300 Elopoints compared to the starting Value. \n",
    "At the time when wrote the first lines in B-4 would have been crushed by that but now i don't mind, i am looking forward to the challenge ahead.\n",
    "\n",
    "\n",
    "<cite>Fred.NoonienSingh()</cite>"
   ]
  }
 ],
 "metadata": {
  "kernelspec": {
   "display_name": ".venv",
   "language": "python",
   "name": "python3"
  },
  "language_info": {
   "codemirror_mode": {
    "name": "ipython",
    "version": 3
   },
   "file_extension": ".py",
   "mimetype": "text/x-python",
   "name": "python",
   "nbconvert_exporter": "python",
   "pygments_lexer": "ipython3",
   "version": "3.12.5"
  }
 },
 "nbformat": 4,
 "nbformat_minor": 2
}