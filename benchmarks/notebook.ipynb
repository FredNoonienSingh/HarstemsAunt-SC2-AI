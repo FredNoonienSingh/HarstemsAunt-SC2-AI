{
 "cells": [
  {
   "cell_type": "markdown",
   "metadata": {
    "vscode": {
     "languageId": "plaintext"
    }
   },
   "source": [
    "# benchmark evaluation"
   ]
  },
  {
   "cell_type": "code",
   "execution_count": 7,
   "metadata": {},
   "outputs": [],
   "source": [
    "from typing import List\n",
    "from random import randint\n",
    "\n",
    "import pandas as pd\n",
    "import numpy as np\n",
    "import matplotlib.pyplot as plt\n",
    "%matplotlib inline\n",
    "import seaborn as sns\n",
    "from IPython.display import Markdown as md\n",
    " \n",
    "# configs \n",
    "plt.rcParams[\"figure.figsize\"] = [16,9]\n",
    "plt.rcParams[\"figure.autolayout\"] = True\n",
    "plt.style.use('seaborn-v0_8-darkgrid')"
   ]
  },
  {
   "cell_type": "code",
   "execution_count": 8,
   "metadata": {},
   "outputs": [
    {
     "data": {
      "text/html": [
       "<div>\n",
       "<style scoped>\n",
       "    .dataframe tbody tr th:only-of-type {\n",
       "        vertical-align: middle;\n",
       "    }\n",
       "\n",
       "    .dataframe tbody tr th {\n",
       "        vertical-align: top;\n",
       "    }\n",
       "\n",
       "    .dataframe thead th {\n",
       "        text-align: right;\n",
       "    }\n",
       "</style>\n",
       "<table border=\"1\" class=\"dataframe\">\n",
       "  <thead>\n",
       "    <tr style=\"text-align: right;\">\n",
       "      <th></th>\n",
       "      <th>benchmark</th>\n",
       "      <th>bot_version</th>\n",
       "      <th>comment</th>\n",
       "      <th>branch</th>\n",
       "      <th>map</th>\n",
       "      <th>start_pos</th>\n",
       "      <th>started_at</th>\n",
       "      <th>enemy_behavior</th>\n",
       "      <th>has_creep</th>\n",
       "      <th>enemy_units</th>\n",
       "      <th>own_units</th>\n",
       "      <th>time_running</th>\n",
       "      <th>taken_damage</th>\n",
       "      <th>destroyed_enemy_units</th>\n",
       "      <th>destroyed_friendly_units</th>\n",
       "      <th>end_condition</th>\n",
       "    </tr>\n",
       "  </thead>\n",
       "  <tbody>\n",
       "  </tbody>\n",
       "</table>\n",
       "</div>"
      ],
      "text/plain": [
       "Empty DataFrame\n",
       "Columns: [benchmark, bot_version, comment, branch, map, start_pos, started_at, enemy_behavior, has_creep, enemy_units, own_units, time_running, taken_damage, destroyed_enemy_units, destroyed_friendly_units, end_condition]\n",
       "Index: []"
      ]
     },
     "execution_count": 8,
     "metadata": {},
     "output_type": "execute_result"
    }
   ],
   "source": [
    "df = pd.read_csv(\"data/benchmark_HarstemsAunt_v1.1_dev.csv\")\n",
    "df.head()"
   ]
  }
 ],
 "metadata": {
  "kernelspec": {
   "display_name": ".venv",
   "language": "python",
   "name": "python3"
  },
  "language_info": {
   "codemirror_mode": {
    "name": "ipython",
    "version": 3
   },
   "file_extension": ".py",
   "mimetype": "text/x-python",
   "name": "python",
   "nbconvert_exporter": "python",
   "pygments_lexer": "ipython3",
   "version": "3.12.5"
  }
 },
 "nbformat": 4,
 "nbformat_minor": 2
}
